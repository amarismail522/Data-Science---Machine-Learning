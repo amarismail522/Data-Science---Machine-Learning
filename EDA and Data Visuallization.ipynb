{
 "cells": [
  {
   "cell_type": "code",
   "execution_count": 1,
   "id": "dedac2de",
   "metadata": {},
   "outputs": [
    {
     "name": "stdout",
     "output_type": "stream",
     "text": [
      "Mean:  55\n"
     ]
    }
   ],
   "source": [
    "# Mean \n",
    "\n",
    "import statistics\n",
    "data = [10,20,30,40,50,60,70,80,90,100]\n",
    "print(\"Mean: \", statistics.mean(data))"
   ]
  },
  {
   "cell_type": "code",
   "execution_count": 3,
   "id": "7f02da66",
   "metadata": {},
   "outputs": [
    {
     "name": "stdout",
     "output_type": "stream",
     "text": [
      "Mean:  30\n"
     ]
    }
   ],
   "source": [
    "# Mode\n",
    "\n",
    "data = [10,20,30,40,30,50,60,70,80,90,100]\n",
    "print(\"Mean: \", statistics.mode(data))"
   ]
  },
  {
   "cell_type": "code",
   "execution_count": 4,
   "id": "ae0d2b89",
   "metadata": {},
   "outputs": [
    {
     "name": "stdout",
     "output_type": "stream",
     "text": [
      "Median Even Length:  55.0\n",
      "Median Odd Length:  50\n"
     ]
    }
   ],
   "source": [
    "data = [10,20,30,40,50,60,70,80,90,100]\n",
    "print(\"Median Even Length: \", statistics.median(data))\n",
    "\n",
    "data = [10,20,30,40,30,50,60,70,80,90,100]\n",
    "print(\"Median Odd Length: \", statistics.median(data))"
   ]
  },
  {
   "cell_type": "code",
   "execution_count": 7,
   "id": "3ac0aef6",
   "metadata": {},
   "outputs": [
    {
     "name": "stdout",
     "output_type": "stream",
     "text": [
      "Mean:  102.5\n",
      "Difference from mean:  [22.5, 17.5, 12.5, 7.5, 2.5, -2.5, -7.5, -12.5, -17.5, -22.5]\n",
      "Square of mean difference:  [506.25, 306.25, 156.25, 56.25, 6.25, 6.25, 56.25, 156.25, 306.25, 506.25]\n",
      "Variance:  206.25\n"
     ]
    }
   ],
   "source": [
    "Age = [80, 85, 90, 95, 100, 105, 110, 115, 120, 125]\n",
    "\n",
    "#find mean first\n",
    "age_mean = statistics.mean(Age)\n",
    "print(\"Mean: \",age_mean)\n",
    "\n",
    "#Find the Difference from the Mean\n",
    "diff_mean = [age_mean-x for x in Age]\n",
    "print(\"Difference from mean: \",diff_mean)\n",
    "\n",
    "#Find square value of each mean difference\n",
    "square_mean_diff = [x**2 for x in diff_mean]\n",
    "print(\"Square of mean difference: \",square_mean_diff)\n",
    "\n",
    "#Average number of these square values\n",
    "Variance = statistics.mean(square_mean_diff)\n",
    "print(\"Variance: \",Variance)"
   ]
  },
  {
   "cell_type": "code",
   "execution_count": 12,
   "id": "3247e0bc",
   "metadata": {},
   "outputs": [
    {
     "data": {
      "text/plain": [
       "102.5"
      ]
     },
     "execution_count": 12,
     "metadata": {},
     "output_type": "execute_result"
    }
   ],
   "source": [
    "statistics.mean(Age)"
   ]
  },
  {
   "cell_type": "code",
   "execution_count": 13,
   "id": "9c0abafa",
   "metadata": {},
   "outputs": [
    {
     "name": "stdout",
     "output_type": "stream",
     "text": [
      "Standard Deviation:  14.361406616345072\n"
     ]
    }
   ],
   "source": [
    "print(\"Standard Deviation: \", statistics.sqrt(Variance))"
   ]
  },
  {
   "cell_type": "code",
   "execution_count": null,
   "id": "bc010cd5",
   "metadata": {},
   "outputs": [],
   "source": []
  }
 ],
 "metadata": {
  "kernelspec": {
   "display_name": "Python 3 (ipykernel)",
   "language": "python",
   "name": "python3"
  },
  "language_info": {
   "codemirror_mode": {
    "name": "ipython",
    "version": 3
   },
   "file_extension": ".py",
   "mimetype": "text/x-python",
   "name": "python",
   "nbconvert_exporter": "python",
   "pygments_lexer": "ipython3",
   "version": "3.9.12"
  }
 },
 "nbformat": 4,
 "nbformat_minor": 5
}

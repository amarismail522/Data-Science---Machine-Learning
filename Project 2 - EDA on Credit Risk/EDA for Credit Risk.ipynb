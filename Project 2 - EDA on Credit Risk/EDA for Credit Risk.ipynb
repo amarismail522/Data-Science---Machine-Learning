{
 "cells": [
  {
   "cell_type": "markdown",
   "id": "68cef5bb",
   "metadata": {},
   "source": [
    "## Project - EDA for Credit Risk"
   ]
  },
  {
   "cell_type": "markdown",
   "id": "6f1031f0",
   "metadata": {},
   "source": [
    "## Source - https://www.kaggle.com/datasets/laotse/credit-risk-dataset\n"
   ]
  },
  {
   "cell_type": "markdown",
   "id": "00d51522",
   "metadata": {},
   "source": [
    "### Content\n",
    "- About Dataset - Source, What it contains, How it will be useful.\n",
    "- Importing Libraries / Datasets\n",
    "- Segregating Dataset\n",
    "- Preliminary Investigation of Data\n",
    "- About Target Variable \n",
    "- Domain Knowledge\n",
    "- About Categorical Variables\n",
    "- Descriptive Statistics\n",
    "- Missing Values\n",
    "- Duplicate Values\n",
    "- Imbalanced - ness of Target Variable\n",
    "- Distribution, Skewness \n",
    "- Variance / Standard Deviation\n",
    "- Outliers & Anomalies\n",
    "- Detailed Insights (variable - wise)\n",
    "- Insights from Bi - Variate Analysis\n",
    "- Important Insights\n"
   ]
  },
  {
   "cell_type": "markdown",
   "id": "1e65aec6",
   "metadata": {},
   "source": [
    "### About Dataset - Source , Features"
   ]
  },
  {
   "cell_type": "markdown",
   "id": "89be54d9",
   "metadata": {},
   "source": [
    "**Quik Feature Description**\n",
    "- Feature 1 - Age(in years)\n",
    "- Feature 2 - Annual Income\n",
    "- Feature 3 - Home ownership (Nominal Categorical) \n",
    "- Feature 4 - Employment length (in years)\n",
    "- Feature 5 - Loan intention (Purpose of Loan)\n",
    "- Feature 6 - Loan grade (Ordinal Categorical )\n",
    "- Feature 7 - Loan amount (in INR)\n",
    "- Feature 8 - Interest rate (in percentage)\n",
    "- ***Feature 9 - Loan status (0 is non default 1 is default > Target)\n",
    "- Feature 10 - Loan - Percent Income (Debt - Equity Ratio)(in percentage)\n",
    "- Feature 11 - History of default (Nominal Categorical)\n",
    "- Feature 12 - Credit History length (in years)\n",
    "\n",
    "**Source - Kaggle Dataset**\n"
   ]
  },
  {
   "cell_type": "markdown",
   "id": "03cc156a",
   "metadata": {},
   "source": [
    "### Import Libraries and Dataset"
   ]
  },
  {
   "cell_type": "code",
   "execution_count": 1,
   "id": "61171b58",
   "metadata": {},
   "outputs": [],
   "source": [
    "import numpy as np \n",
    "import pandas as pd\n",
    "\n",
    "import matplotlib.pyplot as plt\n",
    "import seaborn as sns"
   ]
  },
  {
   "cell_type": "code",
   "execution_count": 3,
   "id": "c445afaa",
   "metadata": {},
   "outputs": [],
   "source": [
    "df = pd.read_csv(\"./credit_risk_dataset.csv\")"
   ]
  },
  {
   "cell_type": "code",
   "execution_count": 4,
   "id": "cfea5d37",
   "metadata": {},
   "outputs": [],
   "source": [
    "df_copy = df.copy(deep=True)"
   ]
  },
  {
   "cell_type": "markdown",
   "id": "35dc5629",
   "metadata": {},
   "source": [
    "### Segregating Dataset"
   ]
  },
  {
   "cell_type": "code",
   "execution_count": null,
   "id": "b377e7ab",
   "metadata": {},
   "outputs": [],
   "source": []
  }
 ],
 "metadata": {
  "kernelspec": {
   "display_name": "Python 3 (ipykernel)",
   "language": "python",
   "name": "python3"
  },
  "language_info": {
   "codemirror_mode": {
    "name": "ipython",
    "version": 3
   },
   "file_extension": ".py",
   "mimetype": "text/x-python",
   "name": "python",
   "nbconvert_exporter": "python",
   "pygments_lexer": "ipython3",
   "version": "3.9.12"
  }
 },
 "nbformat": 4,
 "nbformat_minor": 5
}

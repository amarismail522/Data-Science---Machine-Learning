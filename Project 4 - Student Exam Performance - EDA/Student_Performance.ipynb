{
 "cells": [
  {
   "cell_type": "code",
   "execution_count": 1,
   "id": "50ced4ed",
   "metadata": {},
   "outputs": [],
   "source": [
    "import numpy as np \n",
    "import pandas as pd\n",
    "import matplotlib.pyplot as plt\n",
    "import seaborn as sns"
   ]
  },
  {
   "cell_type": "code",
   "execution_count": 2,
   "id": "6fde8b86",
   "metadata": {},
   "outputs": [],
   "source": [
    "df = pd.read_csv(\"./StudentsPerformance.csv\")"
   ]
  },
  {
   "cell_type": "code",
   "execution_count": 3,
   "id": "f17d8915",
   "metadata": {},
   "outputs": [],
   "source": [
    "df_copy = df.copy()"
   ]
  },
  {
   "cell_type": "code",
   "execution_count": 4,
   "id": "696c74d8",
   "metadata": {},
   "outputs": [
    {
     "data": {
      "text/html": [
       "<div>\n",
       "<style scoped>\n",
       "    .dataframe tbody tr th:only-of-type {\n",
       "        vertical-align: middle;\n",
       "    }\n",
       "\n",
       "    .dataframe tbody tr th {\n",
       "        vertical-align: top;\n",
       "    }\n",
       "\n",
       "    .dataframe thead th {\n",
       "        text-align: right;\n",
       "    }\n",
       "</style>\n",
       "<table border=\"1\" class=\"dataframe\">\n",
       "  <thead>\n",
       "    <tr style=\"text-align: right;\">\n",
       "      <th></th>\n",
       "      <th>gender</th>\n",
       "      <th>race/ethnicity</th>\n",
       "      <th>parental level of education</th>\n",
       "      <th>lunch</th>\n",
       "      <th>test preparation course</th>\n",
       "      <th>math score</th>\n",
       "      <th>reading score</th>\n",
       "      <th>writing score</th>\n",
       "    </tr>\n",
       "  </thead>\n",
       "  <tbody>\n",
       "    <tr>\n",
       "      <th>0</th>\n",
       "      <td>female</td>\n",
       "      <td>group B</td>\n",
       "      <td>bachelor's degree</td>\n",
       "      <td>standard</td>\n",
       "      <td>none</td>\n",
       "      <td>72</td>\n",
       "      <td>72</td>\n",
       "      <td>74</td>\n",
       "    </tr>\n",
       "    <tr>\n",
       "      <th>1</th>\n",
       "      <td>female</td>\n",
       "      <td>group C</td>\n",
       "      <td>some college</td>\n",
       "      <td>standard</td>\n",
       "      <td>completed</td>\n",
       "      <td>69</td>\n",
       "      <td>90</td>\n",
       "      <td>88</td>\n",
       "    </tr>\n",
       "    <tr>\n",
       "      <th>2</th>\n",
       "      <td>female</td>\n",
       "      <td>group B</td>\n",
       "      <td>master's degree</td>\n",
       "      <td>standard</td>\n",
       "      <td>none</td>\n",
       "      <td>90</td>\n",
       "      <td>95</td>\n",
       "      <td>93</td>\n",
       "    </tr>\n",
       "    <tr>\n",
       "      <th>3</th>\n",
       "      <td>male</td>\n",
       "      <td>group A</td>\n",
       "      <td>associate's degree</td>\n",
       "      <td>free/reduced</td>\n",
       "      <td>none</td>\n",
       "      <td>47</td>\n",
       "      <td>57</td>\n",
       "      <td>44</td>\n",
       "    </tr>\n",
       "    <tr>\n",
       "      <th>4</th>\n",
       "      <td>male</td>\n",
       "      <td>group C</td>\n",
       "      <td>some college</td>\n",
       "      <td>standard</td>\n",
       "      <td>none</td>\n",
       "      <td>76</td>\n",
       "      <td>78</td>\n",
       "      <td>75</td>\n",
       "    </tr>\n",
       "  </tbody>\n",
       "</table>\n",
       "</div>"
      ],
      "text/plain": [
       "   gender race/ethnicity parental level of education         lunch  \\\n",
       "0  female        group B           bachelor's degree      standard   \n",
       "1  female        group C                some college      standard   \n",
       "2  female        group B             master's degree      standard   \n",
       "3    male        group A          associate's degree  free/reduced   \n",
       "4    male        group C                some college      standard   \n",
       "\n",
       "  test preparation course  math score  reading score  writing score  \n",
       "0                    none          72             72             74  \n",
       "1               completed          69             90             88  \n",
       "2                    none          90             95             93  \n",
       "3                    none          47             57             44  \n",
       "4                    none          76             78             75  "
      ]
     },
     "execution_count": 4,
     "metadata": {},
     "output_type": "execute_result"
    }
   ],
   "source": [
    "df.head()"
   ]
  },
  {
   "cell_type": "code",
   "execution_count": 5,
   "id": "96c4a3c4",
   "metadata": {},
   "outputs": [],
   "source": [
    "df_num = df.select_dtypes(include='number')\n",
    "df_cat = df.select_dtypes(include=['object','category'])"
   ]
  },
  {
   "cell_type": "code",
   "execution_count": 6,
   "id": "1c884aa6",
   "metadata": {},
   "outputs": [
    {
     "data": {
      "text/html": [
       "<style type=\"text/css\">\n",
       "#T_15b76_row0_col5 {\n",
       "  background-color: #f1e2cc;\n",
       "  color: #000000;\n",
       "}\n",
       "#T_15b76_row0_col6, #T_15b76_row0_col7, #T_15b76_row6_col5 {\n",
       "  background-color: #cccccc;\n",
       "  color: #000000;\n",
       "}\n",
       "#T_15b76_row1_col5, #T_15b76_row1_col6, #T_15b76_row4_col5, #T_15b76_row4_col6, #T_15b76_row5_col6, #T_15b76_row8_col6, #T_15b76_row9_col7 {\n",
       "  background-color: #f4cae4;\n",
       "  color: #000000;\n",
       "}\n",
       "#T_15b76_row1_col7, #T_15b76_row3_col5, #T_15b76_row5_col7, #T_15b76_row9_col6 {\n",
       "  background-color: #cbd5e8;\n",
       "  color: #000000;\n",
       "}\n",
       "#T_15b76_row2_col5, #T_15b76_row2_col6, #T_15b76_row2_col7, #T_15b76_row6_col7 {\n",
       "  background-color: #fff2ae;\n",
       "  color: #000000;\n",
       "}\n",
       "#T_15b76_row3_col6, #T_15b76_row3_col7, #T_15b76_row4_col7, #T_15b76_row6_col6, #T_15b76_row8_col5, #T_15b76_row8_col7, #T_15b76_row9_col5 {\n",
       "  background-color: #e6f5c9;\n",
       "  color: #000000;\n",
       "}\n",
       "#T_15b76_row5_col5, #T_15b76_row7_col5, #T_15b76_row7_col6, #T_15b76_row7_col7 {\n",
       "  background-color: #b3e2cd;\n",
       "  color: #000000;\n",
       "}\n",
       "</style>\n",
       "<table id=\"T_15b76\">\n",
       "  <thead>\n",
       "    <tr>\n",
       "      <th class=\"blank level0\" >&nbsp;</th>\n",
       "      <th id=\"T_15b76_level0_col0\" class=\"col_heading level0 col0\" >gender</th>\n",
       "      <th id=\"T_15b76_level0_col1\" class=\"col_heading level0 col1\" >race/ethnicity</th>\n",
       "      <th id=\"T_15b76_level0_col2\" class=\"col_heading level0 col2\" >parental level of education</th>\n",
       "      <th id=\"T_15b76_level0_col3\" class=\"col_heading level0 col3\" >lunch</th>\n",
       "      <th id=\"T_15b76_level0_col4\" class=\"col_heading level0 col4\" >test preparation course</th>\n",
       "      <th id=\"T_15b76_level0_col5\" class=\"col_heading level0 col5\" >math score</th>\n",
       "      <th id=\"T_15b76_level0_col6\" class=\"col_heading level0 col6\" >reading score</th>\n",
       "      <th id=\"T_15b76_level0_col7\" class=\"col_heading level0 col7\" >writing score</th>\n",
       "    </tr>\n",
       "  </thead>\n",
       "  <tbody>\n",
       "    <tr>\n",
       "      <th id=\"T_15b76_level0_row0\" class=\"row_heading level0 row0\" >614</th>\n",
       "      <td id=\"T_15b76_row0_col0\" class=\"data row0 col0\" >female</td>\n",
       "      <td id=\"T_15b76_row0_col1\" class=\"data row0 col1\" >group A</td>\n",
       "      <td id=\"T_15b76_row0_col2\" class=\"data row0 col2\" >associate's degree</td>\n",
       "      <td id=\"T_15b76_row0_col3\" class=\"data row0 col3\" >standard</td>\n",
       "      <td id=\"T_15b76_row0_col4\" class=\"data row0 col4\" >none</td>\n",
       "      <td id=\"T_15b76_row0_col5\" class=\"data row0 col5\" >82</td>\n",
       "      <td id=\"T_15b76_row0_col6\" class=\"data row0 col6\" >93</td>\n",
       "      <td id=\"T_15b76_row0_col7\" class=\"data row0 col7\" >93</td>\n",
       "    </tr>\n",
       "    <tr>\n",
       "      <th id=\"T_15b76_level0_row1\" class=\"row_heading level0 row1\" >621</th>\n",
       "      <td id=\"T_15b76_row1_col0\" class=\"data row1 col0\" >male</td>\n",
       "      <td id=\"T_15b76_row1_col1\" class=\"data row1 col1\" >group B</td>\n",
       "      <td id=\"T_15b76_row1_col2\" class=\"data row1 col2\" >bachelor's degree</td>\n",
       "      <td id=\"T_15b76_row1_col3\" class=\"data row1 col3\" >free/reduced</td>\n",
       "      <td id=\"T_15b76_row1_col4\" class=\"data row1 col4\" >none</td>\n",
       "      <td id=\"T_15b76_row1_col5\" class=\"data row1 col5\" >62</td>\n",
       "      <td id=\"T_15b76_row1_col6\" class=\"data row1 col6\" >63</td>\n",
       "      <td id=\"T_15b76_row1_col7\" class=\"data row1 col7\" >56</td>\n",
       "    </tr>\n",
       "    <tr>\n",
       "      <th id=\"T_15b76_level0_row2\" class=\"row_heading level0 row2\" >718</th>\n",
       "      <td id=\"T_15b76_row2_col0\" class=\"data row2 col0\" >female</td>\n",
       "      <td id=\"T_15b76_row2_col1\" class=\"data row2 col1\" >group C</td>\n",
       "      <td id=\"T_15b76_row2_col2\" class=\"data row2 col2\" >high school</td>\n",
       "      <td id=\"T_15b76_row2_col3\" class=\"data row2 col3\" >standard</td>\n",
       "      <td id=\"T_15b76_row2_col4\" class=\"data row2 col4\" >none</td>\n",
       "      <td id=\"T_15b76_row2_col5\" class=\"data row2 col5\" >76</td>\n",
       "      <td id=\"T_15b76_row2_col6\" class=\"data row2 col6\" >76</td>\n",
       "      <td id=\"T_15b76_row2_col7\" class=\"data row2 col7\" >74</td>\n",
       "    </tr>\n",
       "    <tr>\n",
       "      <th id=\"T_15b76_level0_row3\" class=\"row_heading level0 row3\" >41</th>\n",
       "      <td id=\"T_15b76_row3_col0\" class=\"data row3 col0\" >female</td>\n",
       "      <td id=\"T_15b76_row3_col1\" class=\"data row3 col1\" >group C</td>\n",
       "      <td id=\"T_15b76_row3_col2\" class=\"data row3 col2\" >associate's degree</td>\n",
       "      <td id=\"T_15b76_row3_col3\" class=\"data row3 col3\" >standard</td>\n",
       "      <td id=\"T_15b76_row3_col4\" class=\"data row3 col4\" >none</td>\n",
       "      <td id=\"T_15b76_row3_col5\" class=\"data row3 col5\" >58</td>\n",
       "      <td id=\"T_15b76_row3_col6\" class=\"data row3 col6\" >73</td>\n",
       "      <td id=\"T_15b76_row3_col7\" class=\"data row3 col7\" >68</td>\n",
       "    </tr>\n",
       "    <tr>\n",
       "      <th id=\"T_15b76_level0_row4\" class=\"row_heading level0 row4\" >647</th>\n",
       "      <td id=\"T_15b76_row4_col0\" class=\"data row4 col0\" >female</td>\n",
       "      <td id=\"T_15b76_row4_col1\" class=\"data row4 col1\" >group E</td>\n",
       "      <td id=\"T_15b76_row4_col2\" class=\"data row4 col2\" >high school</td>\n",
       "      <td id=\"T_15b76_row4_col3\" class=\"data row4 col3\" >free/reduced</td>\n",
       "      <td id=\"T_15b76_row4_col4\" class=\"data row4 col4\" >none</td>\n",
       "      <td id=\"T_15b76_row4_col5\" class=\"data row4 col5\" >64</td>\n",
       "      <td id=\"T_15b76_row4_col6\" class=\"data row4 col6\" >62</td>\n",
       "      <td id=\"T_15b76_row4_col7\" class=\"data row4 col7\" >68</td>\n",
       "    </tr>\n",
       "    <tr>\n",
       "      <th id=\"T_15b76_level0_row5\" class=\"row_heading level0 row5\" >874</th>\n",
       "      <td id=\"T_15b76_row5_col0\" class=\"data row5 col0\" >female</td>\n",
       "      <td id=\"T_15b76_row5_col1\" class=\"data row5 col1\" >group C</td>\n",
       "      <td id=\"T_15b76_row5_col2\" class=\"data row5 col2\" >bachelor's degree</td>\n",
       "      <td id=\"T_15b76_row5_col3\" class=\"data row5 col3\" >free/reduced</td>\n",
       "      <td id=\"T_15b76_row5_col4\" class=\"data row5 col4\" >none</td>\n",
       "      <td id=\"T_15b76_row5_col5\" class=\"data row5 col5\" >43</td>\n",
       "      <td id=\"T_15b76_row5_col6\" class=\"data row5 col6\" >62</td>\n",
       "      <td id=\"T_15b76_row5_col7\" class=\"data row5 col7\" >61</td>\n",
       "    </tr>\n",
       "    <tr>\n",
       "      <th id=\"T_15b76_level0_row6\" class=\"row_heading level0 row6\" >469</th>\n",
       "      <td id=\"T_15b76_row6_col0\" class=\"data row6 col0\" >male</td>\n",
       "      <td id=\"T_15b76_row6_col1\" class=\"data row6 col1\" >group C</td>\n",
       "      <td id=\"T_15b76_row6_col2\" class=\"data row6 col2\" >some college</td>\n",
       "      <td id=\"T_15b76_row6_col3\" class=\"data row6 col3\" >standard</td>\n",
       "      <td id=\"T_15b76_row6_col4\" class=\"data row6 col4\" >none</td>\n",
       "      <td id=\"T_15b76_row6_col5\" class=\"data row6 col5\" >91</td>\n",
       "      <td id=\"T_15b76_row6_col6\" class=\"data row6 col6\" >74</td>\n",
       "      <td id=\"T_15b76_row6_col7\" class=\"data row6 col7\" >76</td>\n",
       "    </tr>\n",
       "    <tr>\n",
       "      <th id=\"T_15b76_level0_row7\" class=\"row_heading level0 row7\" >231</th>\n",
       "      <td id=\"T_15b76_row7_col0\" class=\"data row7 col0\" >male</td>\n",
       "      <td id=\"T_15b76_row7_col1\" class=\"data row7 col1\" >group C</td>\n",
       "      <td id=\"T_15b76_row7_col2\" class=\"data row7 col2\" >associate's degree</td>\n",
       "      <td id=\"T_15b76_row7_col3\" class=\"data row7 col3\" >standard</td>\n",
       "      <td id=\"T_15b76_row7_col4\" class=\"data row7 col4\" >none</td>\n",
       "      <td id=\"T_15b76_row7_col5\" class=\"data row7 col5\" >46</td>\n",
       "      <td id=\"T_15b76_row7_col6\" class=\"data row7 col6\" >43</td>\n",
       "      <td id=\"T_15b76_row7_col7\" class=\"data row7 col7\" >42</td>\n",
       "    </tr>\n",
       "    <tr>\n",
       "      <th id=\"T_15b76_level0_row8\" class=\"row_heading level0 row8\" >109</th>\n",
       "      <td id=\"T_15b76_row8_col0\" class=\"data row8 col0\" >female</td>\n",
       "      <td id=\"T_15b76_row8_col1\" class=\"data row8 col1\" >group B</td>\n",
       "      <td id=\"T_15b76_row8_col2\" class=\"data row8 col2\" >some high school</td>\n",
       "      <td id=\"T_15b76_row8_col3\" class=\"data row8 col3\" >standard</td>\n",
       "      <td id=\"T_15b76_row8_col4\" class=\"data row8 col4\" >none</td>\n",
       "      <td id=\"T_15b76_row8_col5\" class=\"data row8 col5\" >70</td>\n",
       "      <td id=\"T_15b76_row8_col6\" class=\"data row8 col6\" >64</td>\n",
       "      <td id=\"T_15b76_row8_col7\" class=\"data row8 col7\" >72</td>\n",
       "    </tr>\n",
       "    <tr>\n",
       "      <th id=\"T_15b76_level0_row9\" class=\"row_heading level0 row9\" >610</th>\n",
       "      <td id=\"T_15b76_row9_col0\" class=\"data row9 col0\" >male</td>\n",
       "      <td id=\"T_15b76_row9_col1\" class=\"data row9 col1\" >group D</td>\n",
       "      <td id=\"T_15b76_row9_col2\" class=\"data row9 col2\" >some college</td>\n",
       "      <td id=\"T_15b76_row9_col3\" class=\"data row9 col3\" >free/reduced</td>\n",
       "      <td id=\"T_15b76_row9_col4\" class=\"data row9 col4\" >completed</td>\n",
       "      <td id=\"T_15b76_row9_col5\" class=\"data row9 col5\" >69</td>\n",
       "      <td id=\"T_15b76_row9_col6\" class=\"data row9 col6\" >60</td>\n",
       "      <td id=\"T_15b76_row9_col7\" class=\"data row9 col7\" >63</td>\n",
       "    </tr>\n",
       "  </tbody>\n",
       "</table>\n"
      ],
      "text/plain": [
       "<pandas.io.formats.style.Styler at 0x7f648ca574f0>"
      ]
     },
     "execution_count": 6,
     "metadata": {},
     "output_type": "execute_result"
    }
   ],
   "source": [
    "df.sample(10).style.background_gradient(cmap='Pastel2')"
   ]
  },
  {
   "cell_type": "code",
   "execution_count": 7,
   "id": "c661b423",
   "metadata": {},
   "outputs": [
    {
     "data": {
      "text/plain": [
       "(1000, 8)"
      ]
     },
     "execution_count": 7,
     "metadata": {},
     "output_type": "execute_result"
    }
   ],
   "source": [
    "df.shape"
   ]
  },
  {
   "cell_type": "code",
   "execution_count": 8,
   "id": "385902d6",
   "metadata": {},
   "outputs": [
    {
     "name": "stdout",
     "output_type": "stream",
     "text": [
      "<class 'pandas.core.frame.DataFrame'>\n",
      "RangeIndex: 1000 entries, 0 to 999\n",
      "Data columns (total 8 columns):\n",
      " #   Column                       Non-Null Count  Dtype \n",
      "---  ------                       --------------  ----- \n",
      " 0   gender                       1000 non-null   object\n",
      " 1   race/ethnicity               1000 non-null   object\n",
      " 2   parental level of education  1000 non-null   object\n",
      " 3   lunch                        1000 non-null   object\n",
      " 4   test preparation course      1000 non-null   object\n",
      " 5   math score                   1000 non-null   int64 \n",
      " 6   reading score                1000 non-null   int64 \n",
      " 7   writing score                1000 non-null   int64 \n",
      "dtypes: int64(3), object(5)\n",
      "memory usage: 62.6+ KB\n"
     ]
    }
   ],
   "source": [
    "df.info()"
   ]
  },
  {
   "cell_type": "code",
   "execution_count": 9,
   "id": "ac7317d9",
   "metadata": {},
   "outputs": [
    {
     "data": {
      "text/plain": [
       "8000"
      ]
     },
     "execution_count": 9,
     "metadata": {},
     "output_type": "execute_result"
    }
   ],
   "source": [
    "df.size"
   ]
  },
  {
   "cell_type": "code",
   "execution_count": 10,
   "id": "578f07b0",
   "metadata": {},
   "outputs": [],
   "source": [
    "df['total_perc'] = round((df['reading score'] + df['writing score'] + \n",
    "                   df['math score'])/3, 2)"
   ]
  },
  {
   "cell_type": "code",
   "execution_count": 11,
   "id": "8c0a8a0b",
   "metadata": {},
   "outputs": [
    {
     "data": {
      "text/plain": [
       "0      72.67\n",
       "1      82.33\n",
       "2      92.67\n",
       "3      49.33\n",
       "4      76.33\n",
       "       ...  \n",
       "995    94.00\n",
       "996    57.33\n",
       "997    65.00\n",
       "998    74.33\n",
       "999    83.00\n",
       "Name: total_perc, Length: 1000, dtype: float64"
      ]
     },
     "execution_count": 11,
     "metadata": {},
     "output_type": "execute_result"
    }
   ],
   "source": [
    "df['total_perc']"
   ]
  },
  {
   "cell_type": "code",
   "execution_count": 12,
   "id": "2cfb2455",
   "metadata": {},
   "outputs": [],
   "source": [
    "df['total_Marks'] = df['reading score'] + df['writing score'] + df['math score']"
   ]
  },
  {
   "cell_type": "code",
   "execution_count": 13,
   "id": "49d89bf4",
   "metadata": {},
   "outputs": [
    {
     "data": {
      "text/html": [
       "<div>\n",
       "<style scoped>\n",
       "    .dataframe tbody tr th:only-of-type {\n",
       "        vertical-align: middle;\n",
       "    }\n",
       "\n",
       "    .dataframe tbody tr th {\n",
       "        vertical-align: top;\n",
       "    }\n",
       "\n",
       "    .dataframe thead th {\n",
       "        text-align: right;\n",
       "    }\n",
       "</style>\n",
       "<table border=\"1\" class=\"dataframe\">\n",
       "  <thead>\n",
       "    <tr style=\"text-align: right;\">\n",
       "      <th></th>\n",
       "      <th>gender</th>\n",
       "      <th>race/ethnicity</th>\n",
       "      <th>parental level of education</th>\n",
       "      <th>lunch</th>\n",
       "      <th>test preparation course</th>\n",
       "      <th>math score</th>\n",
       "      <th>reading score</th>\n",
       "      <th>writing score</th>\n",
       "      <th>total_perc</th>\n",
       "      <th>total_Marks</th>\n",
       "    </tr>\n",
       "  </thead>\n",
       "  <tbody>\n",
       "    <tr>\n",
       "      <th>0</th>\n",
       "      <td>female</td>\n",
       "      <td>group B</td>\n",
       "      <td>bachelor's degree</td>\n",
       "      <td>standard</td>\n",
       "      <td>none</td>\n",
       "      <td>72</td>\n",
       "      <td>72</td>\n",
       "      <td>74</td>\n",
       "      <td>72.67</td>\n",
       "      <td>218</td>\n",
       "    </tr>\n",
       "    <tr>\n",
       "      <th>1</th>\n",
       "      <td>female</td>\n",
       "      <td>group C</td>\n",
       "      <td>some college</td>\n",
       "      <td>standard</td>\n",
       "      <td>completed</td>\n",
       "      <td>69</td>\n",
       "      <td>90</td>\n",
       "      <td>88</td>\n",
       "      <td>82.33</td>\n",
       "      <td>247</td>\n",
       "    </tr>\n",
       "    <tr>\n",
       "      <th>2</th>\n",
       "      <td>female</td>\n",
       "      <td>group B</td>\n",
       "      <td>master's degree</td>\n",
       "      <td>standard</td>\n",
       "      <td>none</td>\n",
       "      <td>90</td>\n",
       "      <td>95</td>\n",
       "      <td>93</td>\n",
       "      <td>92.67</td>\n",
       "      <td>278</td>\n",
       "    </tr>\n",
       "    <tr>\n",
       "      <th>3</th>\n",
       "      <td>male</td>\n",
       "      <td>group A</td>\n",
       "      <td>associate's degree</td>\n",
       "      <td>free/reduced</td>\n",
       "      <td>none</td>\n",
       "      <td>47</td>\n",
       "      <td>57</td>\n",
       "      <td>44</td>\n",
       "      <td>49.33</td>\n",
       "      <td>148</td>\n",
       "    </tr>\n",
       "    <tr>\n",
       "      <th>4</th>\n",
       "      <td>male</td>\n",
       "      <td>group C</td>\n",
       "      <td>some college</td>\n",
       "      <td>standard</td>\n",
       "      <td>none</td>\n",
       "      <td>76</td>\n",
       "      <td>78</td>\n",
       "      <td>75</td>\n",
       "      <td>76.33</td>\n",
       "      <td>229</td>\n",
       "    </tr>\n",
       "  </tbody>\n",
       "</table>\n",
       "</div>"
      ],
      "text/plain": [
       "   gender race/ethnicity parental level of education         lunch  \\\n",
       "0  female        group B           bachelor's degree      standard   \n",
       "1  female        group C                some college      standard   \n",
       "2  female        group B             master's degree      standard   \n",
       "3    male        group A          associate's degree  free/reduced   \n",
       "4    male        group C                some college      standard   \n",
       "\n",
       "  test preparation course  math score  reading score  writing score  \\\n",
       "0                    none          72             72             74   \n",
       "1               completed          69             90             88   \n",
       "2                    none          90             95             93   \n",
       "3                    none          47             57             44   \n",
       "4                    none          76             78             75   \n",
       "\n",
       "   total_perc  total_Marks  \n",
       "0       72.67          218  \n",
       "1       82.33          247  \n",
       "2       92.67          278  \n",
       "3       49.33          148  \n",
       "4       76.33          229  "
      ]
     },
     "execution_count": 13,
     "metadata": {},
     "output_type": "execute_result"
    }
   ],
   "source": [
    "df.head()"
   ]
  },
  {
   "cell_type": "code",
   "execution_count": 14,
   "id": "1146fa11",
   "metadata": {},
   "outputs": [
    {
     "data": {
      "text/plain": [
       "count    1000.000000\n",
       "mean       67.770580\n",
       "std        14.257311\n",
       "min         9.000000\n",
       "25%        58.330000\n",
       "50%        68.330000\n",
       "75%        77.670000\n",
       "max       100.000000\n",
       "Name: total_perc, dtype: float64"
      ]
     },
     "execution_count": 14,
     "metadata": {},
     "output_type": "execute_result"
    }
   ],
   "source": [
    "df['total_perc'].describe()"
   ]
  },
  {
   "cell_type": "code",
   "execution_count": 15,
   "id": "5c8dd09f",
   "metadata": {},
   "outputs": [
    {
     "data": {
      "text/plain": [
       "math score       0.918744\n",
       "reading score    0.970331\n",
       "writing score    0.965669\n",
       "total_perc       1.000000\n",
       "total_Marks      1.000000\n",
       "dtype: float64"
      ]
     },
     "execution_count": 15,
     "metadata": {},
     "output_type": "execute_result"
    }
   ],
   "source": [
    "corr_target = df.corrwith(df['total_perc'])\n",
    "corr_target"
   ]
  },
  {
   "cell_type": "code",
   "execution_count": 16,
   "id": "4dabc68e",
   "metadata": {},
   "outputs": [],
   "source": [
    "def Grade(total_perc):\n",
    "    if total_perc > 85 : return \"A\"\n",
    "    if total_perc > 71 : return \"B\"\n",
    "    if total_perc > 61 : return \"C\"\n",
    "    if total_perc > 50 : return \"D\"\n",
    "    else: return \"F\"\n",
    "    \n",
    "df['Grade'] = df['total_perc'].apply(lambda x:Grade(x))    "
   ]
  },
  {
   "cell_type": "code",
   "execution_count": 17,
   "id": "0291fc31",
   "metadata": {},
   "outputs": [
    {
     "data": {
      "text/plain": [
       "0      B\n",
       "1      B\n",
       "2      A\n",
       "3      F\n",
       "4      B\n",
       "      ..\n",
       "995    A\n",
       "996    D\n",
       "997    C\n",
       "998    B\n",
       "999    B\n",
       "Name: Grade, Length: 1000, dtype: object"
      ]
     },
     "execution_count": 17,
     "metadata": {},
     "output_type": "execute_result"
    }
   ],
   "source": [
    "df['Grade']"
   ]
  },
  {
   "cell_type": "code",
   "execution_count": 18,
   "id": "c2f2b60f",
   "metadata": {},
   "outputs": [],
   "source": [
    "passmark = 50"
   ]
  },
  {
   "cell_type": "code",
   "execution_count": 19,
   "id": "6fce2524",
   "metadata": {},
   "outputs": [],
   "source": [
    "df['math_passstatus'] = np.where(df['math score'] < passmark, 'F','P')\n",
    "df['reading_passstatus'] = np.where(df['reading score'] < passmark, 'F','P')\n",
    "df['writing_passstatus'] = np.where(df['writing score'] < passmark, 'F','P')"
   ]
  },
  {
   "cell_type": "code",
   "execution_count": 20,
   "id": "af3d32d6",
   "metadata": {},
   "outputs": [],
   "source": [
    "df['perc_passstatus'] = np.where(df['total_perc']<passmark, 'F','P')"
   ]
  },
  {
   "cell_type": "code",
   "execution_count": 21,
   "id": "14197681",
   "metadata": {},
   "outputs": [
    {
     "data": {
      "text/html": [
       "<div>\n",
       "<style scoped>\n",
       "    .dataframe tbody tr th:only-of-type {\n",
       "        vertical-align: middle;\n",
       "    }\n",
       "\n",
       "    .dataframe tbody tr th {\n",
       "        vertical-align: top;\n",
       "    }\n",
       "\n",
       "    .dataframe thead th {\n",
       "        text-align: right;\n",
       "    }\n",
       "</style>\n",
       "<table border=\"1\" class=\"dataframe\">\n",
       "  <thead>\n",
       "    <tr style=\"text-align: right;\">\n",
       "      <th></th>\n",
       "      <th>gender</th>\n",
       "      <th>race/ethnicity</th>\n",
       "      <th>parental level of education</th>\n",
       "      <th>lunch</th>\n",
       "      <th>test preparation course</th>\n",
       "      <th>math score</th>\n",
       "      <th>reading score</th>\n",
       "      <th>writing score</th>\n",
       "      <th>total_perc</th>\n",
       "      <th>total_Marks</th>\n",
       "      <th>Grade</th>\n",
       "      <th>math_passstatus</th>\n",
       "      <th>reading_passstatus</th>\n",
       "      <th>writing_passstatus</th>\n",
       "      <th>perc_passstatus</th>\n",
       "    </tr>\n",
       "  </thead>\n",
       "  <tbody>\n",
       "    <tr>\n",
       "      <th>0</th>\n",
       "      <td>female</td>\n",
       "      <td>group B</td>\n",
       "      <td>bachelor's degree</td>\n",
       "      <td>standard</td>\n",
       "      <td>none</td>\n",
       "      <td>72</td>\n",
       "      <td>72</td>\n",
       "      <td>74</td>\n",
       "      <td>72.67</td>\n",
       "      <td>218</td>\n",
       "      <td>B</td>\n",
       "      <td>P</td>\n",
       "      <td>P</td>\n",
       "      <td>P</td>\n",
       "      <td>P</td>\n",
       "    </tr>\n",
       "    <tr>\n",
       "      <th>1</th>\n",
       "      <td>female</td>\n",
       "      <td>group C</td>\n",
       "      <td>some college</td>\n",
       "      <td>standard</td>\n",
       "      <td>completed</td>\n",
       "      <td>69</td>\n",
       "      <td>90</td>\n",
       "      <td>88</td>\n",
       "      <td>82.33</td>\n",
       "      <td>247</td>\n",
       "      <td>B</td>\n",
       "      <td>P</td>\n",
       "      <td>P</td>\n",
       "      <td>P</td>\n",
       "      <td>P</td>\n",
       "    </tr>\n",
       "    <tr>\n",
       "      <th>2</th>\n",
       "      <td>female</td>\n",
       "      <td>group B</td>\n",
       "      <td>master's degree</td>\n",
       "      <td>standard</td>\n",
       "      <td>none</td>\n",
       "      <td>90</td>\n",
       "      <td>95</td>\n",
       "      <td>93</td>\n",
       "      <td>92.67</td>\n",
       "      <td>278</td>\n",
       "      <td>A</td>\n",
       "      <td>P</td>\n",
       "      <td>P</td>\n",
       "      <td>P</td>\n",
       "      <td>P</td>\n",
       "    </tr>\n",
       "    <tr>\n",
       "      <th>3</th>\n",
       "      <td>male</td>\n",
       "      <td>group A</td>\n",
       "      <td>associate's degree</td>\n",
       "      <td>free/reduced</td>\n",
       "      <td>none</td>\n",
       "      <td>47</td>\n",
       "      <td>57</td>\n",
       "      <td>44</td>\n",
       "      <td>49.33</td>\n",
       "      <td>148</td>\n",
       "      <td>F</td>\n",
       "      <td>F</td>\n",
       "      <td>P</td>\n",
       "      <td>F</td>\n",
       "      <td>F</td>\n",
       "    </tr>\n",
       "    <tr>\n",
       "      <th>4</th>\n",
       "      <td>male</td>\n",
       "      <td>group C</td>\n",
       "      <td>some college</td>\n",
       "      <td>standard</td>\n",
       "      <td>none</td>\n",
       "      <td>76</td>\n",
       "      <td>78</td>\n",
       "      <td>75</td>\n",
       "      <td>76.33</td>\n",
       "      <td>229</td>\n",
       "      <td>B</td>\n",
       "      <td>P</td>\n",
       "      <td>P</td>\n",
       "      <td>P</td>\n",
       "      <td>P</td>\n",
       "    </tr>\n",
       "  </tbody>\n",
       "</table>\n",
       "</div>"
      ],
      "text/plain": [
       "   gender race/ethnicity parental level of education         lunch  \\\n",
       "0  female        group B           bachelor's degree      standard   \n",
       "1  female        group C                some college      standard   \n",
       "2  female        group B             master's degree      standard   \n",
       "3    male        group A          associate's degree  free/reduced   \n",
       "4    male        group C                some college      standard   \n",
       "\n",
       "  test preparation course  math score  reading score  writing score  \\\n",
       "0                    none          72             72             74   \n",
       "1               completed          69             90             88   \n",
       "2                    none          90             95             93   \n",
       "3                    none          47             57             44   \n",
       "4                    none          76             78             75   \n",
       "\n",
       "   total_perc  total_Marks Grade math_passstatus reading_passstatus  \\\n",
       "0       72.67          218     B               P                  P   \n",
       "1       82.33          247     B               P                  P   \n",
       "2       92.67          278     A               P                  P   \n",
       "3       49.33          148     F               F                  P   \n",
       "4       76.33          229     B               P                  P   \n",
       "\n",
       "  writing_passstatus perc_passstatus  \n",
       "0                  P               P  \n",
       "1                  P               P  \n",
       "2                  P               P  \n",
       "3                  F               F  \n",
       "4                  P               P  "
      ]
     },
     "execution_count": 21,
     "metadata": {},
     "output_type": "execute_result"
    }
   ],
   "source": [
    "df.head()"
   ]
  },
  {
   "cell_type": "code",
   "execution_count": 22,
   "id": "2251ae4e",
   "metadata": {},
   "outputs": [
    {
     "data": {
      "text/plain": [
       "<AxesSubplot:ylabel='gender'>"
      ]
     },
     "execution_count": 22,
     "metadata": {},
     "output_type": "execute_result"
    },
    {
     "data": {
      "image/png": "[encoded data removed]",
      "text/plain": [
       "<Figure size 432x288 with 1 Axes>"
      ]
     },
     "metadata": {},
     "output_type": "display_data"
    }
   ],
   "source": [
    "df.gender.value_counts().plot(kind='pie', autopct='%1.1f%%')"
   ]
  },
  {
   "cell_type": "code",
   "execution_count": 23,
   "id": "f7f95f66",
   "metadata": {},
   "outputs": [
    {
     "data": {
      "image/png": "[encoded data removed]",
      "text/plain": [
       "<Figure size 432x288 with 1 Axes>"
      ]
     },
     "metadata": {},
     "output_type": "display_data"
    },
    {
     "data": {
      "image/png": "[encoded data removed]",
      "text/plain": [
       "<Figure size 432x288 with 1 Axes>"
      ]
     },
     "metadata": {},
     "output_type": "display_data"
    },
    {
     "data": {
      "image/png": "[encoded data removed]",
      "text/plain": [
       "<Figure size 432x288 with 1 Axes>"
      ]
     },
     "metadata": {},
     "output_type": "display_data"
    }
   ],
   "source": [
    "x = df.groupby('gender')['math score'].sum()\n",
    "plt.pie(x, autopct='%1.1f%%', labels=['Female','Male'], shadow=True,pctdistance=0.4)\n",
    "plt.title('Math score For Each Gender')\n",
    "plt.show()\n",
    "x = df.groupby('gender')['reading score'].sum()\n",
    "plt.pie(x, autopct='%1.1f%%', labels=['Female','Male'], shadow=True,pctdistance=0.4)\n",
    "plt.title('Reading score For Each Gender')\n",
    "plt.show()\n",
    "x = df.groupby('gender')['writing score'].sum()\n",
    "plt.pie(x, autopct='%1.1f%%', labels=['Female','Male'], shadow=True,pctdistance=0.4)\n",
    "plt.title('writing score For Each Gender')\n",
    "plt.show()"
   ]
  },
  {
   "cell_type": "code",
   "execution_count": 24,
   "id": "5ed51a04",
   "metadata": {},
   "outputs": [
    {
     "data": {
      "image/png": "[encoded data removed]",
      "text/plain": [
       "<Figure size 432x288 with 1 Axes>"
      ]
     },
     "metadata": {
      "needs_background": "light"
     },
     "output_type": "display_data"
    }
   ],
   "source": [
    "p = sns.countplot(x='gender', data=df, hue='perc_passstatus',\n",
    "                 palette='bright')\n",
    "_ = plt.setp(p.get_xticklabels(),rotation=90)"
   ]
  },
  {
   "cell_type": "code",
   "execution_count": 25,
   "id": "7c9128ba",
   "metadata": {},
   "outputs": [
    {
     "data": {
      "image/png": "[encoded data removed]",
      "text/plain": [
       "<Figure size 432x288 with 1 Axes>"
      ]
     },
     "metadata": {
      "needs_background": "light"
     },
     "output_type": "display_data"
    }
   ],
   "source": [
    "p = sns.countplot(x='math score', data=df)\n",
    "_ = plt.setp(p.get_xticklabels(), rotation=90,)"
   ]
  },
  {
   "cell_type": "code",
   "execution_count": 26,
   "id": "addf762f",
   "metadata": {},
   "outputs": [
    {
     "data": {
      "image/png": "[encoded data removed]",
      "text/plain": [
       "<Figure size 432x288 with 1 Axes>"
      ]
     },
     "metadata": {
      "needs_background": "light"
     },
     "output_type": "display_data"
    }
   ],
   "source": [
    "p = sns.countplot(x='parental level of education', data=df,\n",
    "                 hue='perc_passstatus', palette='bright')\n",
    "_ = plt.setp(p.get_xticklabels(),rotation=90)"
   ]
  },
  {
   "cell_type": "code",
   "execution_count": 27,
   "id": "5cd9daf6",
   "metadata": {},
   "outputs": [
    {
     "data": {
      "text/plain": [
       "<AxesSubplot:ylabel='lunch'>"
      ]
     },
     "execution_count": 27,
     "metadata": {},
     "output_type": "execute_result"
    },
    {
     "data": {
      "image/png": "[encoded data removed]",
      "text/plain": [
       "<Figure size 432x288 with 1 Axes>"
      ]
     },
     "metadata": {},
     "output_type": "display_data"
    }
   ],
   "source": [
    "df.lunch.value_counts().plot(kind='pie',autopct='%1.1f%%')"
   ]
  },
  {
   "cell_type": "code",
   "execution_count": 28,
   "id": "489295dd",
   "metadata": {},
   "outputs": [
    {
     "data": {
      "text/html": [
       "<div>\n",
       "<style scoped>\n",
       "    .dataframe tbody tr th:only-of-type {\n",
       "        vertical-align: middle;\n",
       "    }\n",
       "\n",
       "    .dataframe tbody tr th {\n",
       "        vertical-align: top;\n",
       "    }\n",
       "\n",
       "    .dataframe thead th {\n",
       "        text-align: right;\n",
       "    }\n",
       "</style>\n",
       "<table border=\"1\" class=\"dataframe\">\n",
       "  <thead>\n",
       "    <tr style=\"text-align: right;\">\n",
       "      <th></th>\n",
       "      <th>gender</th>\n",
       "      <th>math score</th>\n",
       "      <th>reading score</th>\n",
       "      <th>writing score</th>\n",
       "    </tr>\n",
       "  </thead>\n",
       "  <tbody>\n",
       "    <tr>\n",
       "      <th>0</th>\n",
       "      <td>female</td>\n",
       "      <td>63.633205</td>\n",
       "      <td>72.608108</td>\n",
       "      <td>72.467181</td>\n",
       "    </tr>\n",
       "    <tr>\n",
       "      <th>1</th>\n",
       "      <td>male</td>\n",
       "      <td>68.728216</td>\n",
       "      <td>65.473029</td>\n",
       "      <td>63.311203</td>\n",
       "    </tr>\n",
       "  </tbody>\n",
       "</table>\n",
       "</div>"
      ],
      "text/plain": [
       "   gender  math score  reading score  writing score\n",
       "0  female   63.633205      72.608108      72.467181\n",
       "1    male   68.728216      65.473029      63.311203"
      ]
     },
     "execution_count": 28,
     "metadata": {},
     "output_type": "execute_result"
    }
   ],
   "source": [
    "df.pivot_table(values=['math score', 'reading score', 'writing score'],index='gender').reset_index()"
   ]
  },
  {
   "cell_type": "code",
   "execution_count": 29,
   "id": "8d94e80d",
   "metadata": {},
   "outputs": [
    {
     "data": {
      "image/png": "[encoded data removed]",
      "text/plain": [
       "<Figure size 936x504 with 3 Axes>"
      ]
     },
     "metadata": {
      "needs_background": "light"
     },
     "output_type": "display_data"
    }
   ],
   "source": [
    "fig, axes=plt.subplots(1,3, sharey=True, figsize=(13,7))\n",
    "sns.barplot(ax=axes[0],x='gender',y='math score',data=df,ci=None)\n",
    "sns.barplot(ax=axes[1],x='gender',y='reading score',data=df,ci=None)\n",
    "sns.barplot(ax=axes[2],x='gender',y='writing score',data=df,ci=None)\n",
    "plt.tight_layout(pad=4.0)\n",
    "fig.suptitle('average score in exams by gender', fontsize=20)\n",
    "plt.show()"
   ]
  },
  {
   "cell_type": "code",
   "execution_count": 30,
   "id": "c173877c",
   "metadata": {},
   "outputs": [
    {
     "data": {
      "image/png": "[encoded data removed]",
      "text/plain": [
       "<Figure size 936x576 with 6 Axes>"
      ]
     },
     "metadata": {
      "needs_background": "light"
     },
     "output_type": "display_data"
    }
   ],
   "source": [
    "fig, axes =plt.subplots(2,3,sharey=True, figsize=(13,8))\n",
    "sns.barplot(ax=axes[0,0], x='gender',y='math score', data=df,\n",
    "           hue='test preparation course', ci=None)\n",
    "sns.barplot(ax=axes[0,1], x='gender',y='reading score', data=df,\n",
    "           hue='test preparation course', ci=None)\n",
    "sns.barplot(ax=axes[0,2], x='gender',y='writing score', data=df,\n",
    "           hue='test preparation course', ci=None)\n",
    "\n",
    "\n",
    "sns.barplot(ax=axes[1,0], x='gender',y='math score', data=df,\n",
    "           hue='lunch', ci=None)\n",
    "sns.barplot(ax=axes[1,1], x='gender',y='reading score', data=df,\n",
    "           hue='lunch', ci=None)\n",
    "sns.barplot(ax=axes[1,2], x='gender',y='writing score', data=df,\n",
    "           hue='lunch', ci=None)\n",
    "\n",
    "\n",
    "plt.tight_layout(pad=4.0)\n",
    "fig.suptitle('score in exams by gender as affected by test preparation course and lunch type', fontsize=20)\n",
    "axes[0,0].legend(loc='lower center')\n",
    "axes[0,1].legend(loc='lower center')\n",
    "axes[0,2].legend(loc='lower center')\n",
    "axes[0,0].legend(loc='lower center')\n",
    "axes[0,1].legend(loc='lower center')\n",
    "axes[0,2].legend(loc='lower center')\n",
    "plt.show()"
   ]
  },
  {
   "cell_type": "code",
   "execution_count": 31,
   "id": "ca2d2c08",
   "metadata": {},
   "outputs": [
    {
     "data": {
      "text/plain": [
       "<AxesSubplot:>"
      ]
     },
     "execution_count": 31,
     "metadata": {},
     "output_type": "execute_result"
    },
    {
     "data": {
      "image/png": "[encoded data removed]",
      "text/plain": [
       "<Figure size 432x288 with 1 Axes>"
      ]
     },
     "metadata": {
      "needs_background": "light"
     },
     "output_type": "display_data"
    }
   ],
   "source": [
    "df['race/ethnicity'].value_counts().sort_values(ascending=False).plot(kind='bar')"
   ]
  },
  {
   "cell_type": "code",
   "execution_count": 32,
   "id": "d08251fb",
   "metadata": {},
   "outputs": [
    {
     "data": {
      "image/png": "[encoded data removed]",
      "text/plain": [
       "<Figure size 432x288 with 1 Axes>"
      ]
     },
     "metadata": {
      "needs_background": "light"
     },
     "output_type": "display_data"
    }
   ],
   "source": [
    "x = df.pivot_table(values='total_perc', index='race/ethnicity').reset_index()\n",
    "sns.barplot(x='race/ethnicity',y='total_perc',data=df,ci=None)\n",
    "plt.show()"
   ]
  },
  {
   "cell_type": "code",
   "execution_count": 33,
   "id": "003d6881",
   "metadata": {},
   "outputs": [
    {
     "data": {
      "text/html": [
       "<div>\n",
       "<style scoped>\n",
       "    .dataframe tbody tr th:only-of-type {\n",
       "        vertical-align: middle;\n",
       "    }\n",
       "\n",
       "    .dataframe tbody tr th {\n",
       "        vertical-align: top;\n",
       "    }\n",
       "\n",
       "    .dataframe thead th {\n",
       "        text-align: right;\n",
       "    }\n",
       "</style>\n",
       "<table border=\"1\" class=\"dataframe\">\n",
       "  <thead>\n",
       "    <tr style=\"text-align: right;\">\n",
       "      <th></th>\n",
       "      <th>gender</th>\n",
       "      <th>race/ethnicity</th>\n",
       "      <th>parental level of education</th>\n",
       "      <th>lunch</th>\n",
       "      <th>test preparation course</th>\n",
       "      <th>math score</th>\n",
       "      <th>reading score</th>\n",
       "      <th>writing score</th>\n",
       "      <th>total_perc</th>\n",
       "      <th>total_Marks</th>\n",
       "      <th>Grade</th>\n",
       "      <th>math_passstatus</th>\n",
       "      <th>reading_passstatus</th>\n",
       "      <th>writing_passstatus</th>\n",
       "      <th>perc_passstatus</th>\n",
       "    </tr>\n",
       "  </thead>\n",
       "  <tbody>\n",
       "    <tr>\n",
       "      <th>0</th>\n",
       "      <td>female</td>\n",
       "      <td>group B</td>\n",
       "      <td>bachelor's degree</td>\n",
       "      <td>standard</td>\n",
       "      <td>none</td>\n",
       "      <td>72</td>\n",
       "      <td>72</td>\n",
       "      <td>74</td>\n",
       "      <td>72.67</td>\n",
       "      <td>218</td>\n",
       "      <td>B</td>\n",
       "      <td>P</td>\n",
       "      <td>P</td>\n",
       "      <td>P</td>\n",
       "      <td>P</td>\n",
       "    </tr>\n",
       "    <tr>\n",
       "      <th>1</th>\n",
       "      <td>female</td>\n",
       "      <td>group C</td>\n",
       "      <td>some college</td>\n",
       "      <td>standard</td>\n",
       "      <td>completed</td>\n",
       "      <td>69</td>\n",
       "      <td>90</td>\n",
       "      <td>88</td>\n",
       "      <td>82.33</td>\n",
       "      <td>247</td>\n",
       "      <td>B</td>\n",
       "      <td>P</td>\n",
       "      <td>P</td>\n",
       "      <td>P</td>\n",
       "      <td>P</td>\n",
       "    </tr>\n",
       "    <tr>\n",
       "      <th>2</th>\n",
       "      <td>female</td>\n",
       "      <td>group B</td>\n",
       "      <td>master's degree</td>\n",
       "      <td>standard</td>\n",
       "      <td>none</td>\n",
       "      <td>90</td>\n",
       "      <td>95</td>\n",
       "      <td>93</td>\n",
       "      <td>92.67</td>\n",
       "      <td>278</td>\n",
       "      <td>A</td>\n",
       "      <td>P</td>\n",
       "      <td>P</td>\n",
       "      <td>P</td>\n",
       "      <td>P</td>\n",
       "    </tr>\n",
       "    <tr>\n",
       "      <th>3</th>\n",
       "      <td>male</td>\n",
       "      <td>group A</td>\n",
       "      <td>associate's degree</td>\n",
       "      <td>free/reduced</td>\n",
       "      <td>none</td>\n",
       "      <td>47</td>\n",
       "      <td>57</td>\n",
       "      <td>44</td>\n",
       "      <td>49.33</td>\n",
       "      <td>148</td>\n",
       "      <td>F</td>\n",
       "      <td>F</td>\n",
       "      <td>P</td>\n",
       "      <td>F</td>\n",
       "      <td>F</td>\n",
       "    </tr>\n",
       "    <tr>\n",
       "      <th>4</th>\n",
       "      <td>male</td>\n",
       "      <td>group C</td>\n",
       "      <td>some college</td>\n",
       "      <td>standard</td>\n",
       "      <td>none</td>\n",
       "      <td>76</td>\n",
       "      <td>78</td>\n",
       "      <td>75</td>\n",
       "      <td>76.33</td>\n",
       "      <td>229</td>\n",
       "      <td>B</td>\n",
       "      <td>P</td>\n",
       "      <td>P</td>\n",
       "      <td>P</td>\n",
       "      <td>P</td>\n",
       "    </tr>\n",
       "    <tr>\n",
       "      <th>...</th>\n",
       "      <td>...</td>\n",
       "      <td>...</td>\n",
       "      <td>...</td>\n",
       "      <td>...</td>\n",
       "      <td>...</td>\n",
       "      <td>...</td>\n",
       "      <td>...</td>\n",
       "      <td>...</td>\n",
       "      <td>...</td>\n",
       "      <td>...</td>\n",
       "      <td>...</td>\n",
       "      <td>...</td>\n",
       "      <td>...</td>\n",
       "      <td>...</td>\n",
       "      <td>...</td>\n",
       "    </tr>\n",
       "    <tr>\n",
       "      <th>995</th>\n",
       "      <td>female</td>\n",
       "      <td>group E</td>\n",
       "      <td>master's degree</td>\n",
       "      <td>standard</td>\n",
       "      <td>completed</td>\n",
       "      <td>88</td>\n",
       "      <td>99</td>\n",
       "      <td>95</td>\n",
       "      <td>94.00</td>\n",
       "      <td>282</td>\n",
       "      <td>A</td>\n",
       "      <td>P</td>\n",
       "      <td>P</td>\n",
       "      <td>P</td>\n",
       "      <td>P</td>\n",
       "    </tr>\n",
       "    <tr>\n",
       "      <th>996</th>\n",
       "      <td>male</td>\n",
       "      <td>group C</td>\n",
       "      <td>high school</td>\n",
       "      <td>free/reduced</td>\n",
       "      <td>none</td>\n",
       "      <td>62</td>\n",
       "      <td>55</td>\n",
       "      <td>55</td>\n",
       "      <td>57.33</td>\n",
       "      <td>172</td>\n",
       "      <td>D</td>\n",
       "      <td>P</td>\n",
       "      <td>P</td>\n",
       "      <td>P</td>\n",
       "      <td>P</td>\n",
       "    </tr>\n",
       "    <tr>\n",
       "      <th>997</th>\n",
       "      <td>female</td>\n",
       "      <td>group C</td>\n",
       "      <td>high school</td>\n",
       "      <td>free/reduced</td>\n",
       "      <td>completed</td>\n",
       "      <td>59</td>\n",
       "      <td>71</td>\n",
       "      <td>65</td>\n",
       "      <td>65.00</td>\n",
       "      <td>195</td>\n",
       "      <td>C</td>\n",
       "      <td>P</td>\n",
       "      <td>P</td>\n",
       "      <td>P</td>\n",
       "      <td>P</td>\n",
       "    </tr>\n",
       "    <tr>\n",
       "      <th>998</th>\n",
       "      <td>female</td>\n",
       "      <td>group D</td>\n",
       "      <td>some college</td>\n",
       "      <td>standard</td>\n",
       "      <td>completed</td>\n",
       "      <td>68</td>\n",
       "      <td>78</td>\n",
       "      <td>77</td>\n",
       "      <td>74.33</td>\n",
       "      <td>223</td>\n",
       "      <td>B</td>\n",
       "      <td>P</td>\n",
       "      <td>P</td>\n",
       "      <td>P</td>\n",
       "      <td>P</td>\n",
       "    </tr>\n",
       "    <tr>\n",
       "      <th>999</th>\n",
       "      <td>female</td>\n",
       "      <td>group D</td>\n",
       "      <td>some college</td>\n",
       "      <td>free/reduced</td>\n",
       "      <td>none</td>\n",
       "      <td>77</td>\n",
       "      <td>86</td>\n",
       "      <td>86</td>\n",
       "      <td>83.00</td>\n",
       "      <td>249</td>\n",
       "      <td>B</td>\n",
       "      <td>P</td>\n",
       "      <td>P</td>\n",
       "      <td>P</td>\n",
       "      <td>P</td>\n",
       "    </tr>\n",
       "  </tbody>\n",
       "</table>\n",
       "<p>1000 rows × 15 columns</p>\n",
       "</div>"
      ],
      "text/plain": [
       "     gender race/ethnicity parental level of education         lunch  \\\n",
       "0    female        group B           bachelor's degree      standard   \n",
       "1    female        group C                some college      standard   \n",
       "2    female        group B             master's degree      standard   \n",
       "3      male        group A          associate's degree  free/reduced   \n",
       "4      male        group C                some college      standard   \n",
       "..      ...            ...                         ...           ...   \n",
       "995  female        group E             master's degree      standard   \n",
       "996    male        group C                 high school  free/reduced   \n",
       "997  female        group C                 high school  free/reduced   \n",
       "998  female        group D                some college      standard   \n",
       "999  female        group D                some college  free/reduced   \n",
       "\n",
       "    test preparation course  math score  reading score  writing score  \\\n",
       "0                      none          72             72             74   \n",
       "1                 completed          69             90             88   \n",
       "2                      none          90             95             93   \n",
       "3                      none          47             57             44   \n",
       "4                      none          76             78             75   \n",
       "..                      ...         ...            ...            ...   \n",
       "995               completed          88             99             95   \n",
       "996                    none          62             55             55   \n",
       "997               completed          59             71             65   \n",
       "998               completed          68             78             77   \n",
       "999                    none          77             86             86   \n",
       "\n",
       "     total_perc  total_Marks Grade math_passstatus reading_passstatus  \\\n",
       "0         72.67          218     B               P                  P   \n",
       "1         82.33          247     B               P                  P   \n",
       "2         92.67          278     A               P                  P   \n",
       "3         49.33          148     F               F                  P   \n",
       "4         76.33          229     B               P                  P   \n",
       "..          ...          ...   ...             ...                ...   \n",
       "995       94.00          282     A               P                  P   \n",
       "996       57.33          172     D               P                  P   \n",
       "997       65.00          195     C               P                  P   \n",
       "998       74.33          223     B               P                  P   \n",
       "999       83.00          249     B               P                  P   \n",
       "\n",
       "    writing_passstatus perc_passstatus  \n",
       "0                    P               P  \n",
       "1                    P               P  \n",
       "2                    P               P  \n",
       "3                    F               F  \n",
       "4                    P               P  \n",
       "..                 ...             ...  \n",
       "995                  P               P  \n",
       "996                  P               P  \n",
       "997                  P               P  \n",
       "998                  P               P  \n",
       "999                  P               P  \n",
       "\n",
       "[1000 rows x 15 columns]"
      ]
     },
     "execution_count": 33,
     "metadata": {},
     "output_type": "execute_result"
    }
   ],
   "source": [
    "df"
   ]
  },
  {
   "cell_type": "code",
   "execution_count": 34,
   "id": "a699e900",
   "metadata": {},
   "outputs": [
    {
     "data": {
      "text/plain": [
       "gender                         0\n",
       "race/ethnicity                 0\n",
       "parental level of education    0\n",
       "lunch                          0\n",
       "test preparation course        0\n",
       "math score                     0\n",
       "reading score                  0\n",
       "writing score                  0\n",
       "total_perc                     0\n",
       "total_Marks                    0\n",
       "Grade                          0\n",
       "math_passstatus                0\n",
       "reading_passstatus             0\n",
       "writing_passstatus             0\n",
       "perc_passstatus                0\n",
       "dtype: int64"
      ]
     },
     "execution_count": 34,
     "metadata": {},
     "output_type": "execute_result"
    }
   ],
   "source": [
    "df.isnull().sum().sort_values(ascending=False)\n",
    "df.isna().sum().sort_values(ascending=False)"
   ]
  },
  {
   "cell_type": "code",
   "execution_count": 35,
   "id": "798f6a85",
   "metadata": {},
   "outputs": [
    {
     "data": {
      "text/plain": [
       "0"
      ]
     },
     "execution_count": 35,
     "metadata": {},
     "output_type": "execute_result"
    }
   ],
   "source": [
    "df.duplicated().sum()"
   ]
  },
  {
   "cell_type": "markdown",
   "id": "e5f0524a",
   "metadata": {},
   "source": [
    "### Converting Categorical Features \n",
    "- To predict the total marks of any student in the table we need to take into consideration all the columns.\n",
    "- So lets convert the categorical data columns into numerical ones by using get_dummies function"
   ]
  },
  {
   "cell_type": "code",
   "execution_count": 36,
   "id": "22d1015d",
   "metadata": {},
   "outputs": [
    {
     "data": {
      "text/html": [
       "<div>\n",
       "<style scoped>\n",
       "    .dataframe tbody tr th:only-of-type {\n",
       "        vertical-align: middle;\n",
       "    }\n",
       "\n",
       "    .dataframe tbody tr th {\n",
       "        vertical-align: top;\n",
       "    }\n",
       "\n",
       "    .dataframe thead th {\n",
       "        text-align: right;\n",
       "    }\n",
       "</style>\n",
       "<table border=\"1\" class=\"dataframe\">\n",
       "  <thead>\n",
       "    <tr style=\"text-align: right;\">\n",
       "      <th></th>\n",
       "      <th>gender_male</th>\n",
       "      <th>race/ethnicity_group B</th>\n",
       "      <th>race/ethnicity_group C</th>\n",
       "      <th>race/ethnicity_group D</th>\n",
       "      <th>race/ethnicity_group E</th>\n",
       "      <th>parental level of education_bachelor's degree</th>\n",
       "      <th>parental level of education_high school</th>\n",
       "      <th>parental level of education_master's degree</th>\n",
       "      <th>parental level of education_some college</th>\n",
       "      <th>parental level of education_some high school</th>\n",
       "      <th>lunch_standard</th>\n",
       "      <th>test preparation course_none</th>\n",
       "    </tr>\n",
       "  </thead>\n",
       "  <tbody>\n",
       "    <tr>\n",
       "      <th>0</th>\n",
       "      <td>0</td>\n",
       "      <td>1</td>\n",
       "      <td>0</td>\n",
       "      <td>0</td>\n",
       "      <td>0</td>\n",
       "      <td>1</td>\n",
       "      <td>0</td>\n",
       "      <td>0</td>\n",
       "      <td>0</td>\n",
       "      <td>0</td>\n",
       "      <td>1</td>\n",
       "      <td>1</td>\n",
       "    </tr>\n",
       "    <tr>\n",
       "      <th>1</th>\n",
       "      <td>0</td>\n",
       "      <td>0</td>\n",
       "      <td>1</td>\n",
       "      <td>0</td>\n",
       "      <td>0</td>\n",
       "      <td>0</td>\n",
       "      <td>0</td>\n",
       "      <td>0</td>\n",
       "      <td>1</td>\n",
       "      <td>0</td>\n",
       "      <td>1</td>\n",
       "      <td>0</td>\n",
       "    </tr>\n",
       "    <tr>\n",
       "      <th>2</th>\n",
       "      <td>0</td>\n",
       "      <td>1</td>\n",
       "      <td>0</td>\n",
       "      <td>0</td>\n",
       "      <td>0</td>\n",
       "      <td>0</td>\n",
       "      <td>0</td>\n",
       "      <td>1</td>\n",
       "      <td>0</td>\n",
       "      <td>0</td>\n",
       "      <td>1</td>\n",
       "      <td>1</td>\n",
       "    </tr>\n",
       "    <tr>\n",
       "      <th>3</th>\n",
       "      <td>1</td>\n",
       "      <td>0</td>\n",
       "      <td>0</td>\n",
       "      <td>0</td>\n",
       "      <td>0</td>\n",
       "      <td>0</td>\n",
       "      <td>0</td>\n",
       "      <td>0</td>\n",
       "      <td>0</td>\n",
       "      <td>0</td>\n",
       "      <td>0</td>\n",
       "      <td>1</td>\n",
       "    </tr>\n",
       "    <tr>\n",
       "      <th>4</th>\n",
       "      <td>1</td>\n",
       "      <td>0</td>\n",
       "      <td>1</td>\n",
       "      <td>0</td>\n",
       "      <td>0</td>\n",
       "      <td>0</td>\n",
       "      <td>0</td>\n",
       "      <td>0</td>\n",
       "      <td>1</td>\n",
       "      <td>0</td>\n",
       "      <td>1</td>\n",
       "      <td>1</td>\n",
       "    </tr>\n",
       "  </tbody>\n",
       "</table>\n",
       "</div>"
      ],
      "text/plain": [
       "   gender_male  race/ethnicity_group B  race/ethnicity_group C  \\\n",
       "0            0                       1                       0   \n",
       "1            0                       0                       1   \n",
       "2            0                       1                       0   \n",
       "3            1                       0                       0   \n",
       "4            1                       0                       1   \n",
       "\n",
       "   race/ethnicity_group D  race/ethnicity_group E  \\\n",
       "0                       0                       0   \n",
       "1                       0                       0   \n",
       "2                       0                       0   \n",
       "3                       0                       0   \n",
       "4                       0                       0   \n",
       "\n",
       "   parental level of education_bachelor's degree  \\\n",
       "0                                              1   \n",
       "1                                              0   \n",
       "2                                              0   \n",
       "3                                              0   \n",
       "4                                              0   \n",
       "\n",
       "   parental level of education_high school  \\\n",
       "0                                        0   \n",
       "1                                        0   \n",
       "2                                        0   \n",
       "3                                        0   \n",
       "4                                        0   \n",
       "\n",
       "   parental level of education_master's degree  \\\n",
       "0                                            0   \n",
       "1                                            0   \n",
       "2                                            1   \n",
       "3                                            0   \n",
       "4                                            0   \n",
       "\n",
       "   parental level of education_some college  \\\n",
       "0                                         0   \n",
       "1                                         1   \n",
       "2                                         0   \n",
       "3                                         0   \n",
       "4                                         1   \n",
       "\n",
       "   parental level of education_some high school  lunch_standard  \\\n",
       "0                                             0               1   \n",
       "1                                             0               1   \n",
       "2                                             0               1   \n",
       "3                                             0               0   \n",
       "4                                             0               1   \n",
       "\n",
       "   test preparation course_none  \n",
       "0                             1  \n",
       "1                             0  \n",
       "2                             1  \n",
       "3                             1  \n",
       "4                             1  "
      ]
     },
     "execution_count": 36,
     "metadata": {},
     "output_type": "execute_result"
    }
   ],
   "source": [
    "df1 = pd.get_dummies(df[df.columns[:5]], drop_first=True)\n",
    "df1.head()"
   ]
  },
  {
   "cell_type": "markdown",
   "id": "92969b70",
   "metadata": {},
   "source": [
    "Creating final dataframe so as train the model"
   ]
  },
  {
   "cell_type": "code",
   "execution_count": 37,
   "id": "96fcf6da",
   "metadata": {},
   "outputs": [
    {
     "data": {
      "text/html": [
       "<div>\n",
       "<style scoped>\n",
       "    .dataframe tbody tr th:only-of-type {\n",
       "        vertical-align: middle;\n",
       "    }\n",
       "\n",
       "    .dataframe tbody tr th {\n",
       "        vertical-align: top;\n",
       "    }\n",
       "\n",
       "    .dataframe thead th {\n",
       "        text-align: right;\n",
       "    }\n",
       "</style>\n",
       "<table border=\"1\" class=\"dataframe\">\n",
       "  <thead>\n",
       "    <tr style=\"text-align: right;\">\n",
       "      <th></th>\n",
       "      <th>gender_male</th>\n",
       "      <th>race/ethnicity_group B</th>\n",
       "      <th>race/ethnicity_group C</th>\n",
       "      <th>race/ethnicity_group D</th>\n",
       "      <th>race/ethnicity_group E</th>\n",
       "      <th>parental level of education_bachelor's degree</th>\n",
       "      <th>parental level of education_high school</th>\n",
       "      <th>parental level of education_master's degree</th>\n",
       "      <th>parental level of education_some college</th>\n",
       "      <th>parental level of education_some high school</th>\n",
       "      <th>lunch_standard</th>\n",
       "      <th>test preparation course_none</th>\n",
       "      <th>math score</th>\n",
       "      <th>reading score</th>\n",
       "      <th>writing score</th>\n",
       "      <th>total_Marks</th>\n",
       "    </tr>\n",
       "  </thead>\n",
       "  <tbody>\n",
       "    <tr>\n",
       "      <th>0</th>\n",
       "      <td>0</td>\n",
       "      <td>1</td>\n",
       "      <td>0</td>\n",
       "      <td>0</td>\n",
       "      <td>0</td>\n",
       "      <td>1</td>\n",
       "      <td>0</td>\n",
       "      <td>0</td>\n",
       "      <td>0</td>\n",
       "      <td>0</td>\n",
       "      <td>1</td>\n",
       "      <td>1</td>\n",
       "      <td>72</td>\n",
       "      <td>72</td>\n",
       "      <td>74</td>\n",
       "      <td>218</td>\n",
       "    </tr>\n",
       "    <tr>\n",
       "      <th>1</th>\n",
       "      <td>0</td>\n",
       "      <td>0</td>\n",
       "      <td>1</td>\n",
       "      <td>0</td>\n",
       "      <td>0</td>\n",
       "      <td>0</td>\n",
       "      <td>0</td>\n",
       "      <td>0</td>\n",
       "      <td>1</td>\n",
       "      <td>0</td>\n",
       "      <td>1</td>\n",
       "      <td>0</td>\n",
       "      <td>69</td>\n",
       "      <td>90</td>\n",
       "      <td>88</td>\n",
       "      <td>247</td>\n",
       "    </tr>\n",
       "    <tr>\n",
       "      <th>2</th>\n",
       "      <td>0</td>\n",
       "      <td>1</td>\n",
       "      <td>0</td>\n",
       "      <td>0</td>\n",
       "      <td>0</td>\n",
       "      <td>0</td>\n",
       "      <td>0</td>\n",
       "      <td>1</td>\n",
       "      <td>0</td>\n",
       "      <td>0</td>\n",
       "      <td>1</td>\n",
       "      <td>1</td>\n",
       "      <td>90</td>\n",
       "      <td>95</td>\n",
       "      <td>93</td>\n",
       "      <td>278</td>\n",
       "    </tr>\n",
       "    <tr>\n",
       "      <th>3</th>\n",
       "      <td>1</td>\n",
       "      <td>0</td>\n",
       "      <td>0</td>\n",
       "      <td>0</td>\n",
       "      <td>0</td>\n",
       "      <td>0</td>\n",
       "      <td>0</td>\n",
       "      <td>0</td>\n",
       "      <td>0</td>\n",
       "      <td>0</td>\n",
       "      <td>0</td>\n",
       "      <td>1</td>\n",
       "      <td>47</td>\n",
       "      <td>57</td>\n",
       "      <td>44</td>\n",
       "      <td>148</td>\n",
       "    </tr>\n",
       "    <tr>\n",
       "      <th>4</th>\n",
       "      <td>1</td>\n",
       "      <td>0</td>\n",
       "      <td>1</td>\n",
       "      <td>0</td>\n",
       "      <td>0</td>\n",
       "      <td>0</td>\n",
       "      <td>0</td>\n",
       "      <td>0</td>\n",
       "      <td>1</td>\n",
       "      <td>0</td>\n",
       "      <td>1</td>\n",
       "      <td>1</td>\n",
       "      <td>76</td>\n",
       "      <td>78</td>\n",
       "      <td>75</td>\n",
       "      <td>229</td>\n",
       "    </tr>\n",
       "  </tbody>\n",
       "</table>\n",
       "</div>"
      ],
      "text/plain": [
       "   gender_male  race/ethnicity_group B  race/ethnicity_group C  \\\n",
       "0            0                       1                       0   \n",
       "1            0                       0                       1   \n",
       "2            0                       1                       0   \n",
       "3            1                       0                       0   \n",
       "4            1                       0                       1   \n",
       "\n",
       "   race/ethnicity_group D  race/ethnicity_group E  \\\n",
       "0                       0                       0   \n",
       "1                       0                       0   \n",
       "2                       0                       0   \n",
       "3                       0                       0   \n",
       "4                       0                       0   \n",
       "\n",
       "   parental level of education_bachelor's degree  \\\n",
       "0                                              1   \n",
       "1                                              0   \n",
       "2                                              0   \n",
       "3                                              0   \n",
       "4                                              0   \n",
       "\n",
       "   parental level of education_high school  \\\n",
       "0                                        0   \n",
       "1                                        0   \n",
       "2                                        0   \n",
       "3                                        0   \n",
       "4                                        0   \n",
       "\n",
       "   parental level of education_master's degree  \\\n",
       "0                                            0   \n",
       "1                                            0   \n",
       "2                                            1   \n",
       "3                                            0   \n",
       "4                                            0   \n",
       "\n",
       "   parental level of education_some college  \\\n",
       "0                                         0   \n",
       "1                                         1   \n",
       "2                                         0   \n",
       "3                                         0   \n",
       "4                                         1   \n",
       "\n",
       "   parental level of education_some high school  lunch_standard  \\\n",
       "0                                             0               1   \n",
       "1                                             0               1   \n",
       "2                                             0               1   \n",
       "3                                             0               0   \n",
       "4                                             0               1   \n",
       "\n",
       "   test preparation course_none  math score  reading score  writing score  \\\n",
       "0                             1          72             72             74   \n",
       "1                             0          69             90             88   \n",
       "2                             1          90             95             93   \n",
       "3                             1          47             57             44   \n",
       "4                             1          76             78             75   \n",
       "\n",
       "   total_Marks  \n",
       "0          218  \n",
       "1          247  \n",
       "2          278  \n",
       "3          148  \n",
       "4          229  "
      ]
     },
     "execution_count": 37,
     "metadata": {},
     "output_type": "execute_result"
    }
   ],
   "source": [
    "df.drop(['gender','race/ethnicity','parental level of education', 'lunch',\n",
    "        'test preparation course','total_perc','Grade','math_passstatus','reading_passstatus','writing_passstatus','perc_passstatus'], axis=1, inplace=True)\n",
    "df = pd.concat([df1,df], axis=1)\n",
    "df.head()"
   ]
  },
  {
   "cell_type": "code",
   "execution_count": 38,
   "id": "25b2b855",
   "metadata": {},
   "outputs": [
    {
     "name": "stdout",
     "output_type": "stream",
     "text": [
      "<class 'pandas.core.frame.DataFrame'>\n",
      "RangeIndex: 1000 entries, 0 to 999\n",
      "Data columns (total 16 columns):\n",
      " #   Column                                         Non-Null Count  Dtype\n",
      "---  ------                                         --------------  -----\n",
      " 0   gender_male                                    1000 non-null   uint8\n",
      " 1   race/ethnicity_group B                         1000 non-null   uint8\n",
      " 2   race/ethnicity_group C                         1000 non-null   uint8\n",
      " 3   race/ethnicity_group D                         1000 non-null   uint8\n",
      " 4   race/ethnicity_group E                         1000 non-null   uint8\n",
      " 5   parental level of education_bachelor's degree  1000 non-null   uint8\n",
      " 6   parental level of education_high school        1000 non-null   uint8\n",
      " 7   parental level of education_master's degree    1000 non-null   uint8\n",
      " 8   parental level of education_some college       1000 non-null   uint8\n",
      " 9   parental level of education_some high school   1000 non-null   uint8\n",
      " 10  lunch_standard                                 1000 non-null   uint8\n",
      " 11  test preparation course_none                   1000 non-null   uint8\n",
      " 12  math score                                     1000 non-null   int64\n",
      " 13  reading score                                  1000 non-null   int64\n",
      " 14  writing score                                  1000 non-null   int64\n",
      " 15  total_Marks                                    1000 non-null   int64\n",
      "dtypes: int64(4), uint8(12)\n",
      "memory usage: 43.1 KB\n"
     ]
    }
   ],
   "source": [
    "df.info()"
   ]
  },
  {
   "cell_type": "markdown",
   "id": "39a3a366",
   "metadata": {},
   "source": [
    "### Builing a Linear Regression model"
   ]
  },
  {
   "cell_type": "markdown",
   "id": "92ead21a",
   "metadata": {},
   "source": [
    "**Train Test Split**"
   ]
  },
  {
   "cell_type": "code",
   "execution_count": 39,
   "id": "ce0b9300",
   "metadata": {},
   "outputs": [],
   "source": [
    "from sklearn.model_selection import train_test_split\n",
    "X_train, X_test, y_train, y_test = train_test_split(df.drop(['total_Marks'], axis=1), \n",
    "                                                    df['total_Marks'], test_size=0.3,\n",
    "                                                    random_state=101)"
   ]
  },
  {
   "cell_type": "markdown",
   "id": "111abcd4",
   "metadata": {},
   "source": [
    "**Training and Predicting**"
   ]
  },
  {
   "cell_type": "code",
   "execution_count": 40,
   "id": "afb8626b",
   "metadata": {},
   "outputs": [],
   "source": [
    "from sklearn.linear_model import LinearRegression\n",
    "LR = LinearRegression()\n",
    "LR.fit(X_train,y_train)\n",
    "predictions=LR.predict(X_test)"
   ]
  },
  {
   "cell_type": "markdown",
   "id": "9f0a269b",
   "metadata": {},
   "source": [
    "Lets visualize prediction against the testing data"
   ]
  },
  {
   "cell_type": "code",
   "execution_count": 41,
   "id": "026ecb7d",
   "metadata": {
    "scrolled": false
   },
   "outputs": [
    {
     "data": {
      "text/plain": [
       "<AxesSubplot:xlabel='total_Marks'>"
      ]
     },
     "execution_count": 41,
     "metadata": {},
     "output_type": "execute_result"
    },
    {
     "data": {
      "image/png": "[encoded data removed]",
      "text/plain": [
       "<Figure size 432x288 with 1 Axes>"
      ]
     },
     "metadata": {
      "needs_background": "light"
     },
     "output_type": "display_data"
    }
   ],
   "source": [
    "sns.scatterplot(x=y_test, y=predictions)"
   ]
  },
  {
   "cell_type": "markdown",
   "id": "51953ae3",
   "metadata": {},
   "source": [
    "Well as above plot shows model fits very well and showing that the reg score is almost equal to 1, but still we can evaluate the model by the help of the cost functions\n",
    "\n",
    "\n",
    "So lets import them and evaluate model "
   ]
  },
  {
   "cell_type": "code",
   "execution_count": 43,
   "id": "e45d6f76",
   "metadata": {},
   "outputs": [
    {
     "name": "stdout",
     "output_type": "stream",
     "text": [
      "The Mean absolute error:  1.9847827085565466e-14\n",
      "The mean squared error:  8.030814378057959e-28\n",
      "The mean squared error:  2.8338691533057694e-14\n"
     ]
    }
   ],
   "source": [
    "from sklearn import metrics\n",
    "print('The Mean absolute error: ',metrics.mean_absolute_error(y_test,\n",
    "                                                             predictions))\n",
    "print('The mean squared error: ',metrics.mean_squared_error(y_test,predictions))\n",
    "print('The mean squared error: ',np.sqrt(metrics.mean_squared_error(y_test,predictions)))"
   ]
  },
  {
   "cell_type": "markdown",
   "id": "7b9f8841",
   "metadata": {},
   "source": [
    "Prettey well! That shows our model is best fitted on the given dataset"
   ]
  },
  {
   "cell_type": "markdown",
   "id": "ff405748",
   "metadata": {},
   "source": [
    "### Lets create models to predict the math score, reading score and writing score and compare the result"
   ]
  },
  {
   "cell_type": "code",
   "execution_count": null,
   "id": "c7a6631c",
   "metadata": {},
   "outputs": [],
   "source": [
    "df.drop('total_Marks', axis=1, inplace=True)\n",
    "\n",
    "for i in ['math score', 'reading score','writing score']:\n",
    "    X_train, X_test, y_train, y_test = train_"
   ]
  }
 ],
 "metadata": {
  "kernelspec": {
   "display_name": "Python 3 (ipykernel)",
   "language": "python",
   "name": "python3"
  },
  "language_info": {
   "codemirror_mode": {
    "name": "ipython",
    "version": 3
   },
   "file_extension": ".py",
   "mimetype": "text/x-python",
   "name": "python",
   "nbconvert_exporter": "python",
   "pygments_lexer": "ipython3",
   "version": "3.9.12"
  }
 },
 "nbformat": 4,
 "nbformat_minor": 5
}

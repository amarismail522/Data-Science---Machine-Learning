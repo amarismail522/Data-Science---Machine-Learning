{
 "cells": [
  {
   "cell_type": "code",
   "execution_count": null,
   "id": "c3ac3f80",
   "metadata": {},
   "outputs": [],
   "source": [
    "##About Dataset - Source, What it contains, How it will be useful.\n",
    "#Source \n",
    "#Description\n",
    "#Features\n",
    "\n",
    "## Importing Libraries / Datasets\n",
    "\n",
    "\n",
    "- df = pd.read_csv('df')\n",
    "df_copy = df.copy"
   ]
  },
  {
   "cell_type": "markdown",
   "id": "7f61bb1b",
   "metadata": {},
   "source": [
    "### 3. Segregating Dataset\n",
    "\n",
    "- Segregating Target Variable\n",
    "- Segregating Numerical variables from categorical variables"
   ]
  },
  {
   "cell_type": "markdown",
   "id": "9477dab6",
   "metadata": {},
   "source": [
    "### 4. Preliminary Investigation of Data\n",
    "- df.sample()\n",
    "- df.shape()\n",
    "- df.info()\n",
    "- df.size\n",
    "- df.describe(include='O')\n",
    "- df['target'].describe()"
   ]
  },
  {
   "cell_type": "markdown",
   "id": "508c8087",
   "metadata": {},
   "source": [
    "### 5. About Target Variable\n",
    "- df['target'].describe()\n",
    "- df.target.value_counts()/len(df)*100\n",
    "- Pie Chart\n",
    "- Bar Chart"
   ]
  },
  {
   "cell_type": "markdown",
   "id": "85b45302",
   "metadata": {},
   "source": [
    "### 6. Domain Knowledge\n",
    "- About different features "
   ]
  },
  {
   "cell_type": "markdown",
   "id": "7067b534",
   "metadata": {},
   "source": [
    "### 7. About Categorical Variables\n",
    "- df.describe(include='O').T\n",
    "- df.select_dtypes(include=['object','category']).columnts.tolist()\n",
    "- df_cat = df.select_dtypes(includ=['object','category'])\n",
    "- df.dtypes.value_counts()\n",
    "- mode of categorical variables\n",
    "- Bar plot of distribution of unique values of categorical variables"
   ]
  },
  {
   "cell_type": "markdown",
   "id": "9eca4ffd",
   "metadata": {},
   "source": [
    "### 8. Descriptive Statistics \n",
    "- Statical summary of numerical variables"
   ]
  },
  {
   "cell_type": "markdown",
   "id": "9e946b33",
   "metadata": {},
   "source": [
    "### 9. Missing Values\n",
    "- df.isnull().sum()\n",
    "- df.isna().sum().sort_values(ascending=False)\n",
    "- df.isnull().sum().sum()\n",
    "- percent_missing = df.isnull().sort_values(ascending=False)*100 / len(df)\n",
    "- Missing value visualization - Bar Chart\n",
    "- Missing value visualization - Dendogram"
   ]
  },
  {
   "cell_type": "markdown",
   "id": "07689761",
   "metadata": {},
   "source": [
    "### 10. Duplicate Values\n",
    "- df.duplicated().sum()\n",
    "- df.loc[df.duplicated(),:]"
   ]
  },
  {
   "cell_type": "markdown",
   "id": "8a3930f4",
   "metadata": {},
   "source": [
    "### 11.Imbalanced - ness of Target Variable\n",
    "- df.target.value_counts()\n",
    "- df.target.value_counts()/len(df)*100"
   ]
  },
  {
   "cell_type": "markdown",
   "id": "60671a37",
   "metadata": {},
   "source": [
    "### 12. Distribution, Skewness, Kurtosis\n",
    "- Density plot for Distribution\n",
    "- df('').skew()\n",
    "- df.kurtosis()"
   ]
  },
  {
   "cell_type": "markdown",
   "id": "597393cc",
   "metadata": {},
   "source": [
    "### 13. Variance\n",
    "- df.var()"
   ]
  },
  {
   "cell_type": "markdown",
   "id": "3b4af82f",
   "metadata": {},
   "source": [
    "### 14. Outliers & Anomalies\n",
    "- 1. Uni variate Outliers\n",
    "- IQR Proximity Rule(Non-Parametric)\n",
    "- Box Plot\n",
    "- Z -Score\n",
    "- Percentile Method\n",
    "\n",
    "- 2. Bi variate Outliers\n",
    "- Scatter Plot"
   ]
  },
  {
   "cell_type": "markdown",
   "id": "45cf839c",
   "metadata": {},
   "source": [
    "### 15. Bi Variate \n",
    "- (categorical) count plot\n",
    "- (numerical) correlation matrix, correlation heatmap, scatter plot\n"
   ]
  },
  {
   "cell_type": "markdown",
   "id": "9c0c6ad6",
   "metadata": {},
   "source": [
    "### 16. Data Pre Processing Checlist\n",
    "- import scikit learn library\n",
    "- handling missing values - drop/ inpute\n",
    "- handling outliers - drop \n",
    "- handling imbalance of target variable - re-sampling\n",
    "- remove duplicate values \n",
    "- feature scaling of high range variables like income variables\n",
    "- categorical encoding of categorical features\n",
    "- feature selection \n",
    "- spliting the data into train-test"
   ]
  },
  {
   "cell_type": "code",
   "execution_count": null,
   "id": "29caf15a",
   "metadata": {},
   "outputs": [],
   "source": []
  }
 ],
 "metadata": {
  "kernelspec": {
   "display_name": "Python 3 (ipykernel)",
   "language": "python",
   "name": "python3"
  },
  "language_info": {
   "codemirror_mode": {
    "name": "ipython",
    "version": 3
   },
   "file_extension": ".py",
   "mimetype": "text/x-python",
   "name": "python",
   "nbconvert_exporter": "python",
   "pygments_lexer": "ipython3",
   "version": "3.9.12"
  }
 },
 "nbformat": 4,
 "nbformat_minor": 5
}
